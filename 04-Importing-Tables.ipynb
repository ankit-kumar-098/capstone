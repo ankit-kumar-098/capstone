{
 "cells": [
  {
   "attachments": {},
   "cell_type": "markdown",
   "metadata": {},
   "source": [
    "# Display tables resulting from an astroquery request\n",
    "\n",
    "This example implements the addition of two tables :\n",
    "- one resulting from an astroquery request on the [Simbad](https://simbad.cds.unistra.fr/simbad/ \"https://simbad.cds.unistra.fr/simbad/\") database\n",
    "- the other is a table created locally"
   ]
  },
  {
   "cell_type": "code",
   "execution_count": 3,
   "metadata": {},
   "outputs": [
    {
     "name": "stdout",
     "output_type": "stream",
     "text": [
      "Collecting astroquery\n",
      "  Downloading astroquery-0.4.7-py3-none-any.whl.metadata (7.2 kB)\n",
      "Requirement already satisfied: numpy>=1.18 in /home/ankit-kmar/miniconda3/envs/capstone/lib/python3.11/site-packages (from astroquery) (2.1.3)\n",
      "Requirement already satisfied: astropy>=4.2.1 in /home/ankit-kmar/miniconda3/envs/capstone/lib/python3.11/site-packages (from astroquery) (7.0.0)\n",
      "Collecting requests>=2.19 (from astroquery)\n",
      "  Downloading requests-2.32.3-py3-none-any.whl.metadata (4.6 kB)\n",
      "Collecting beautifulsoup4>=4.8 (from astroquery)\n",
      "  Downloading beautifulsoup4-4.12.3-py3-none-any.whl.metadata (3.8 kB)\n",
      "Collecting html5lib>=0.999 (from astroquery)\n",
      "  Downloading html5lib-1.1-py2.py3-none-any.whl.metadata (16 kB)\n",
      "Collecting keyring>=15.0 (from astroquery)\n",
      "  Downloading keyring-25.5.0-py3-none-any.whl.metadata (20 kB)\n",
      "Collecting pyvo>=1.1 (from astroquery)\n",
      "  Downloading pyvo-1.6-py3-none-any.whl.metadata (4.8 kB)\n",
      "Requirement already satisfied: pyerfa>=2.0.1.1 in /home/ankit-kmar/miniconda3/envs/capstone/lib/python3.11/site-packages (from astropy>=4.2.1->astroquery) (2.0.1.5)\n",
      "Requirement already satisfied: astropy-iers-data>=0.2024.10.28.0.34.7 in /home/ankit-kmar/miniconda3/envs/capstone/lib/python3.11/site-packages (from astropy>=4.2.1->astroquery) (0.2024.12.2.0.35.34)\n",
      "Requirement already satisfied: PyYAML>=6.0.0 in /home/ankit-kmar/miniconda3/envs/capstone/lib/python3.11/site-packages (from astropy>=4.2.1->astroquery) (6.0.2)\n",
      "Requirement already satisfied: packaging>=22.0.0 in /home/ankit-kmar/miniconda3/envs/capstone/lib/python3.11/site-packages (from astropy>=4.2.1->astroquery) (24.2)\n",
      "Collecting soupsieve>1.2 (from beautifulsoup4>=4.8->astroquery)\n",
      "  Downloading soupsieve-2.6-py3-none-any.whl.metadata (4.6 kB)\n",
      "Requirement already satisfied: six>=1.9 in /home/ankit-kmar/miniconda3/envs/capstone/lib/python3.11/site-packages (from html5lib>=0.999->astroquery) (1.16.0)\n",
      "Collecting webencodings (from html5lib>=0.999->astroquery)\n",
      "  Downloading webencodings-0.5.1-py2.py3-none-any.whl.metadata (2.1 kB)\n",
      "Collecting jaraco.classes (from keyring>=15.0->astroquery)\n",
      "  Downloading jaraco.classes-3.4.0-py3-none-any.whl.metadata (2.6 kB)\n",
      "Collecting jaraco.functools (from keyring>=15.0->astroquery)\n",
      "  Downloading jaraco.functools-4.1.0-py3-none-any.whl.metadata (2.9 kB)\n",
      "Collecting jaraco.context (from keyring>=15.0->astroquery)\n",
      "  Downloading jaraco.context-6.0.1-py3-none-any.whl.metadata (4.1 kB)\n",
      "Collecting importlib-metadata>=4.11.4 (from keyring>=15.0->astroquery)\n",
      "  Downloading importlib_metadata-8.5.0-py3-none-any.whl.metadata (4.8 kB)\n",
      "Collecting SecretStorage>=3.2 (from keyring>=15.0->astroquery)\n",
      "  Downloading SecretStorage-3.3.3-py3-none-any.whl.metadata (4.0 kB)\n",
      "Collecting jeepney>=0.4.2 (from keyring>=15.0->astroquery)\n",
      "  Downloading jeepney-0.8.0-py3-none-any.whl.metadata (1.3 kB)\n",
      "Collecting charset-normalizer<4,>=2 (from requests>=2.19->astroquery)\n",
      "  Downloading charset_normalizer-3.4.0-cp311-cp311-manylinux_2_17_x86_64.manylinux2014_x86_64.whl.metadata (34 kB)\n",
      "Collecting idna<4,>=2.5 (from requests>=2.19->astroquery)\n",
      "  Downloading idna-3.10-py3-none-any.whl.metadata (10 kB)\n",
      "Collecting urllib3<3,>=1.21.1 (from requests>=2.19->astroquery)\n",
      "  Downloading urllib3-2.2.3-py3-none-any.whl.metadata (6.5 kB)\n",
      "Collecting certifi>=2017.4.17 (from requests>=2.19->astroquery)\n",
      "  Downloading certifi-2024.8.30-py3-none-any.whl.metadata (2.2 kB)\n",
      "Collecting zipp>=3.20 (from importlib-metadata>=4.11.4->keyring>=15.0->astroquery)\n",
      "  Downloading zipp-3.21.0-py3-none-any.whl.metadata (3.7 kB)\n",
      "Collecting cryptography>=2.0 (from SecretStorage>=3.2->keyring>=15.0->astroquery)\n",
      "  Downloading cryptography-44.0.0-cp39-abi3-manylinux_2_34_x86_64.whl.metadata (5.7 kB)\n",
      "Collecting more-itertools (from jaraco.classes->keyring>=15.0->astroquery)\n",
      "  Downloading more_itertools-10.5.0-py3-none-any.whl.metadata (36 kB)\n",
      "Collecting backports.tarfile (from jaraco.context->keyring>=15.0->astroquery)\n",
      "  Downloading backports.tarfile-1.2.0-py3-none-any.whl.metadata (2.0 kB)\n",
      "Collecting cffi>=1.12 (from cryptography>=2.0->SecretStorage>=3.2->keyring>=15.0->astroquery)\n",
      "  Downloading cffi-1.17.1-cp311-cp311-manylinux_2_17_x86_64.manylinux2014_x86_64.whl.metadata (1.5 kB)\n",
      "Collecting pycparser (from cffi>=1.12->cryptography>=2.0->SecretStorage>=3.2->keyring>=15.0->astroquery)\n",
      "  Downloading pycparser-2.22-py3-none-any.whl.metadata (943 bytes)\n",
      "Downloading astroquery-0.4.7-py3-none-any.whl (5.3 MB)\n",
      "\u001b[2K   \u001b[90m━━━━━━━━━━━━━━━━━━━━━━━━━━━━━━━━━━━━━━━━\u001b[0m \u001b[32m5.3/5.3 MB\u001b[0m \u001b[31m10.0 MB/s\u001b[0m eta \u001b[36m0:00:00\u001b[0m \u001b[36m0:00:01\u001b[0m\n",
      "\u001b[?25hDownloading beautifulsoup4-4.12.3-py3-none-any.whl (147 kB)\n",
      "Downloading html5lib-1.1-py2.py3-none-any.whl (112 kB)\n",
      "Downloading keyring-25.5.0-py3-none-any.whl (39 kB)\n",
      "Downloading pyvo-1.6-py3-none-any.whl (994 kB)\n",
      "\u001b[2K   \u001b[90m━━━━━━━━━━━━━━━━━━━━━━━━━━━━━━━━━━━━━━━━\u001b[0m \u001b[32m994.8/994.8 kB\u001b[0m \u001b[31m11.7 MB/s\u001b[0m eta \u001b[36m0:00:00\u001b[0m\n",
      "\u001b[?25hDownloading requests-2.32.3-py3-none-any.whl (64 kB)\n",
      "Downloading certifi-2024.8.30-py3-none-any.whl (167 kB)\n",
      "Downloading charset_normalizer-3.4.0-cp311-cp311-manylinux_2_17_x86_64.manylinux2014_x86_64.whl (142 kB)\n",
      "Downloading idna-3.10-py3-none-any.whl (70 kB)\n",
      "Downloading importlib_metadata-8.5.0-py3-none-any.whl (26 kB)\n",
      "Downloading jeepney-0.8.0-py3-none-any.whl (48 kB)\n",
      "Downloading SecretStorage-3.3.3-py3-none-any.whl (15 kB)\n",
      "Downloading soupsieve-2.6-py3-none-any.whl (36 kB)\n",
      "Downloading urllib3-2.2.3-py3-none-any.whl (126 kB)\n",
      "Downloading jaraco.classes-3.4.0-py3-none-any.whl (6.8 kB)\n",
      "Downloading jaraco.context-6.0.1-py3-none-any.whl (6.8 kB)\n",
      "Downloading jaraco.functools-4.1.0-py3-none-any.whl (10 kB)\n",
      "Downloading webencodings-0.5.1-py2.py3-none-any.whl (11 kB)\n",
      "Downloading cryptography-44.0.0-cp39-abi3-manylinux_2_34_x86_64.whl (4.2 MB)\n",
      "\u001b[2K   \u001b[90m━━━━━━━━━━━━━━━━━━━━━━━━━━━━━━━━━━━━━━━━\u001b[0m \u001b[32m4.2/4.2 MB\u001b[0m \u001b[31m10.8 MB/s\u001b[0m eta \u001b[36m0:00:00\u001b[0ma \u001b[36m0:00:01\u001b[0m\n",
      "\u001b[?25hDownloading zipp-3.21.0-py3-none-any.whl (9.6 kB)\n",
      "Downloading backports.tarfile-1.2.0-py3-none-any.whl (30 kB)\n",
      "Downloading more_itertools-10.5.0-py3-none-any.whl (60 kB)\n",
      "Downloading cffi-1.17.1-cp311-cp311-manylinux_2_17_x86_64.manylinux2014_x86_64.whl (467 kB)\n",
      "Downloading pycparser-2.22-py3-none-any.whl (117 kB)\n",
      "Installing collected packages: webencodings, zipp, urllib3, soupsieve, pycparser, more-itertools, jeepney, idna, html5lib, charset-normalizer, certifi, backports.tarfile, requests, jaraco.functools, jaraco.context, jaraco.classes, importlib-metadata, cffi, beautifulsoup4, pyvo, cryptography, SecretStorage, keyring, astroquery\n",
      "Successfully installed SecretStorage-3.3.3 astroquery-0.4.7 backports.tarfile-1.2.0 beautifulsoup4-4.12.3 certifi-2024.8.30 cffi-1.17.1 charset-normalizer-3.4.0 cryptography-44.0.0 html5lib-1.1 idna-3.10 importlib-metadata-8.5.0 jaraco.classes-3.4.0 jaraco.context-6.0.1 jaraco.functools-4.1.0 jeepney-0.8.0 keyring-25.5.0 more-itertools-10.5.0 pycparser-2.22 pyvo-1.6 requests-2.32.3 soupsieve-2.6 urllib3-2.2.3 webencodings-0.5.1 zipp-3.21.0\n",
      "Note: you may need to restart the kernel to use updated packages.\n"
     ]
    }
   ],
   "source": [
    "%pip install astroquery"
   ]
  },
  {
   "cell_type": "code",
   "execution_count": 1,
   "metadata": {},
   "outputs": [],
   "source": [
    "from ipyaladin import Aladin\n",
    "from astropy.table import QTable\n",
    "import astropy.units as u\n",
    "from astroquery.simbad import Simbad"
   ]
  },
  {
   "attachments": {},
   "cell_type": "markdown",
   "metadata": {},
   "source": [
    "## From a query"
   ]
  },
  {
   "cell_type": "code",
   "execution_count": 2,
   "metadata": {},
   "outputs": [
    {
     "data": {
      "text/html": [
       "<div><i>Table length=65</i>\n",
       "<table id=\"table139947194868880\" class=\"table-striped table-bordered table-condensed\">\n",
       "<thead><tr><th>MAIN_ID</th><th>RA</th><th>DEC</th><th>RA_PREC</th><th>DEC_PREC</th><th>COO_ERR_MAJA</th><th>COO_ERR_MINA</th><th>COO_ERR_ANGLE</th><th>COO_QUAL</th><th>COO_WAVELENGTH</th><th>COO_BIBCODE</th><th>SCRIPT_NUMBER_ID</th></tr></thead>\n",
       "<thead><tr><th></th><th>&quot;h:m:s&quot;</th><th>&quot;d:m:s&quot;</th><th></th><th></th><th>mas</th><th>mas</th><th>deg</th><th></th><th></th><th></th><th></th></tr></thead>\n",
       "<thead><tr><th>object</th><th>str13</th><th>str13</th><th>int16</th><th>int16</th><th>float32</th><th>float32</th><th>int16</th><th>str1</th><th>str1</th><th>object</th><th>int32</th></tr></thead>\n",
       "<tr><td>M   1</td><td>05 34 31.8</td><td>+22 01 03</td><td>5</td><td>5</td><td>5000.000</td><td>5000.000</td><td>90</td><td>D</td><td>X</td><td>2022A&amp;A...661A..38P</td><td>1</td></tr>\n",
       "<tr><td>Trimble 28</td><td>05 34 32.1</td><td>+22 00 56</td><td>5</td><td>5</td><td>--</td><td>--</td><td>0</td><td>D</td><td></td><td></td><td>1</td></tr>\n",
       "<tr><td>2MASS J05343217+2200560</td><td>05 34 32.1831</td><td>+22 00 56.008</td><td>14</td><td>14</td><td>0.149</td><td>0.124</td><td>90</td><td>A</td><td>O</td><td>2020yCat.1350....0G</td><td>1</td></tr>\n",
       "<tr><td>FHES J0534.5+2201</td><td>05 34 31.8623</td><td>+22 01 13.180</td><td>8</td><td>8</td><td>--</td><td>--</td><td>0</td><td>E</td><td>G</td><td>2018ApJS..237...32A</td><td>1</td></tr>\n",
       "<tr><td>V* CM Tau</td><td>05 34 31.9474</td><td>+22 00 52.153</td><td>14</td><td>14</td><td>0.073</td><td>0.061</td><td>90</td><td>A</td><td>O</td><td>2020yCat.1350....0G</td><td>1</td></tr>\n",
       "<tr><td>3FGL J0534.5+2201s</td><td>05 34 31.1993</td><td>+22 01 12.001</td><td>11</td><td>11</td><td>--</td><td>--</td><td>0</td><td>E</td><td></td><td>2022ApJS..260...53A</td><td>1</td></tr>\n",
       "<tr><td>2MASS J05343187+2201161</td><td>05 34 31.8813</td><td>+22 01 16.187</td><td>14</td><td>14</td><td>0.092</td><td>0.072</td><td>90</td><td>A</td><td>O</td><td>2020yCat.1350....0G</td><td>1</td></tr>\n",
       "<tr><td>JCMTSF J053431.3+220045</td><td>05 34 31.3</td><td>+22 00 45</td><td>5</td><td>5</td><td>10000.000</td><td>10000.000</td><td>90</td><td>E</td><td>m</td><td>2008ApJS..175..277D</td><td>1</td></tr>\n",
       "<tr><td>SCOPE G184.56-05.79</td><td>05 34 31</td><td>+22 00.7</td><td>4</td><td>4</td><td>--</td><td>--</td><td>0</td><td>D</td><td>s</td><td>2019MNRAS.485.2895E</td><td>1</td></tr>\n",
       "<tr><td>...</td><td>...</td><td>...</td><td>...</td><td>...</td><td>...</td><td>...</td><td>...</td><td>...</td><td>...</td><td>...</td><td>...</td></tr>\n",
       "<tr><td>[LBC2011] 3</td><td>05 34 34.650</td><td>+21 59 48.17</td><td>7</td><td>7</td><td>--</td><td>--</td><td>0</td><td>D</td><td>I</td><td>2011ApJS..194...30L</td><td>1</td></tr>\n",
       "<tr><td>[LBC2011] 7</td><td>05 34 34.290</td><td>+21 59 44.95</td><td>7</td><td>7</td><td>--</td><td>--</td><td>0</td><td>D</td><td>I</td><td>2011ApJS..194...30L</td><td>1</td></tr>\n",
       "<tr><td>[LBC2011] 49</td><td>05 34 28.140</td><td>+22 02 12.48</td><td>7</td><td>7</td><td>--</td><td>--</td><td>0</td><td>D</td><td>I</td><td>2011ApJS..194...30L</td><td>1</td></tr>\n",
       "<tr><td>[LBC2011] 1</td><td>05 34 34.310</td><td>+21 59 40.69</td><td>7</td><td>7</td><td>--</td><td>--</td><td>0</td><td>D</td><td>I</td><td>2011ApJS..194...30L</td><td>1</td></tr>\n",
       "<tr><td>[LBC2011] 8</td><td>05 34 32.010</td><td>+21 59 32.45</td><td>7</td><td>7</td><td>--</td><td>--</td><td>0</td><td>D</td><td>I</td><td>2011ApJS..194...30L</td><td>1</td></tr>\n",
       "<tr><td>2MASS J05343821+2200486</td><td>05 34 38.2195</td><td>+22 00 48.692</td><td>14</td><td>14</td><td>0.038</td><td>0.029</td><td>90</td><td>A</td><td>O</td><td>2020yCat.1350....0G</td><td>1</td></tr>\n",
       "<tr><td>[LBC2011] 2</td><td>05 34 34.220</td><td>+21 59 38.17</td><td>7</td><td>7</td><td>--</td><td>--</td><td>0</td><td>D</td><td>I</td><td>2011ApJS..194...30L</td><td>1</td></tr>\n",
       "<tr><td>2MASS J05343755+2200010</td><td>05 34 37.55</td><td>+22 00 01.0</td><td>6</td><td>6</td><td>60.000</td><td>60.000</td><td>90</td><td>C</td><td>I</td><td>2003yCat.2246....0C</td><td>1</td></tr>\n",
       "<tr><td>JCMTSF J053427.4+220227</td><td>05 34 27</td><td>+22 02.5</td><td>4</td><td>4</td><td>--</td><td>--</td><td>0</td><td>D</td><td>s</td><td>2019MNRAS.485.2895E</td><td>1</td></tr>\n",
       "</table></div>"
      ],
      "text/plain": [
       "<Table length=65>\n",
       "        MAIN_ID               RA      ...     COO_BIBCODE     SCRIPT_NUMBER_ID\n",
       "                           \"h:m:s\"    ...                                     \n",
       "         object             str13     ...        object            int32      \n",
       "----------------------- ------------- ... ------------------- ----------------\n",
       "                  M   1    05 34 31.8 ... 2022A&A...661A..38P                1\n",
       "             Trimble 28    05 34 32.1 ...                                    1\n",
       "2MASS J05343217+2200560 05 34 32.1831 ... 2020yCat.1350....0G                1\n",
       "      FHES J0534.5+2201 05 34 31.8623 ... 2018ApJS..237...32A                1\n",
       "              V* CM Tau 05 34 31.9474 ... 2020yCat.1350....0G                1\n",
       "     3FGL J0534.5+2201s 05 34 31.1993 ... 2022ApJS..260...53A                1\n",
       "2MASS J05343187+2201161 05 34 31.8813 ... 2020yCat.1350....0G                1\n",
       "JCMTSF J053431.3+220045    05 34 31.3 ... 2008ApJS..175..277D                1\n",
       "    SCOPE G184.56-05.79      05 34 31 ... 2019MNRAS.485.2895E                1\n",
       "                    ...           ... ...                 ...              ...\n",
       "            [LBC2011] 3  05 34 34.650 ... 2011ApJS..194...30L                1\n",
       "            [LBC2011] 7  05 34 34.290 ... 2011ApJS..194...30L                1\n",
       "           [LBC2011] 49  05 34 28.140 ... 2011ApJS..194...30L                1\n",
       "            [LBC2011] 1  05 34 34.310 ... 2011ApJS..194...30L                1\n",
       "            [LBC2011] 8  05 34 32.010 ... 2011ApJS..194...30L                1\n",
       "2MASS J05343821+2200486 05 34 38.2195 ... 2020yCat.1350....0G                1\n",
       "            [LBC2011] 2  05 34 34.220 ... 2011ApJS..194...30L                1\n",
       "2MASS J05343755+2200010   05 34 37.55 ... 2003yCat.2246....0C                1\n",
       "JCMTSF J053427.4+220227      05 34 27 ... 2019MNRAS.485.2895E                1"
      ]
     },
     "execution_count": 2,
     "metadata": {},
     "output_type": "execute_result"
    }
   ],
   "source": [
    "table = Simbad.query_region(\"Messier 1\", radius=0.03 * u.deg)\n",
    "table"
   ]
  },
  {
   "cell_type": "code",
   "execution_count": 3,
   "metadata": {},
   "outputs": [
    {
     "data": {
      "application/vnd.jupyter.widget-view+json": {
       "model_id": "43fe43741e0049a49b9863ab08d458d1",
       "version_major": 2,
       "version_minor": 1
      },
      "text/plain": [
       "Aladin()"
      ]
     },
     "execution_count": 3,
     "metadata": {},
     "output_type": "execute_result"
    }
   ],
   "source": [
    "aladin = Aladin(fov=0.4, target=\"Messier 1\")\n",
    "aladin"
   ]
  },
  {
   "cell_type": "code",
   "execution_count": 4,
   "metadata": {},
   "outputs": [],
   "source": [
    "aladin.add_table(table, shape=\"rhomb\", color=\"lightskyblue\", source_size=20)\n",
    "# This line also works with camelCase instead of snake_case: sourceSize=20"
   ]
  },
  {
   "cell_type": "markdown",
   "metadata": {},
   "source": [
    "## Display Astropy table created from scratch"
   ]
  },
  {
   "cell_type": "code",
   "execution_count": 5,
   "metadata": {},
   "outputs": [],
   "source": [
    "ra = [83.63451584700, 83.61368056017, 83.58780251600]\n",
    "dec = [22.05652591227, 21.97517807639, 21.99277764451]\n",
    "name = [\n",
    "    \"Gaia EDR3 3403818589184411648\",\n",
    "    \"Gaia EDR3 3403817661471500416\",\n",
    "    \"Gaia EDR3 3403817936349408000\",\n",
    "]\n",
    "parallax = [1.7703, 0.5112, 0.3735] * u.mas\n",
    "\n",
    "t = QTable(\n",
    "    [ra, dec, name, parallax],\n",
    "    names=(\"ra\", \"dec\", \"name\", \"parallax\"),\n",
    "    meta={\"name\": \"my_sample_table\"},\n",
    ")"
   ]
  },
  {
   "cell_type": "code",
   "execution_count": 6,
   "metadata": {},
   "outputs": [],
   "source": [
    "aladin.add_table(t)"
   ]
  },
  {
   "cell_type": "code",
   "execution_count": 7,
   "metadata": {},
   "outputs": [
    {
     "data": {
      "application/vnd.jupyter.widget-view+json": {
       "model_id": "43fe43741e0049a49b9863ab08d458d1",
       "version_major": 2,
       "version_minor": 1
      },
      "text/plain": [
       "Aladin()"
      ]
     },
     "execution_count": 7,
     "metadata": {},
     "output_type": "execute_result"
    }
   ],
   "source": [
    "aladin"
   ]
  }
 ],
 "metadata": {
  "kernelspec": {
   "display_name": "capstone",
   "language": "python",
   "name": "python3"
  },
  "language_info": {
   "codemirror_mode": {
    "name": "ipython",
    "version": 3
   },
   "file_extension": ".py",
   "mimetype": "text/x-python",
   "name": "python",
   "nbconvert_exporter": "python",
   "pygments_lexer": "ipython3",
   "version": "3.11.10"
  }
 },
 "nbformat": 4,
 "nbformat_minor": 4
}
