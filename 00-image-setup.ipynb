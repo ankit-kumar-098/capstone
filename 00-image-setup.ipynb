{
 "cells": [
  {
   "cell_type": "code",
   "execution_count": 1,
   "metadata": {},
   "outputs": [
    {
     "name": "stdout",
     "output_type": "stream",
     "text": [
      "Requirement already satisfied: astropy[recommended] in /home/ankit-kmar/miniconda3/envs/capstone/lib/python3.11/site-packages (7.0.0)\n",
      "Requirement already satisfied: numpy>=1.23.2 in /home/ankit-kmar/miniconda3/envs/capstone/lib/python3.11/site-packages (from astropy[recommended]) (2.1.3)\n",
      "Requirement already satisfied: pyerfa>=2.0.1.1 in /home/ankit-kmar/miniconda3/envs/capstone/lib/python3.11/site-packages (from astropy[recommended]) (2.0.1.5)\n",
      "Requirement already satisfied: astropy-iers-data>=0.2024.10.28.0.34.7 in /home/ankit-kmar/miniconda3/envs/capstone/lib/python3.11/site-packages (from astropy[recommended]) (0.2024.12.2.0.35.34)\n",
      "Requirement already satisfied: PyYAML>=6.0.0 in /home/ankit-kmar/miniconda3/envs/capstone/lib/python3.11/site-packages (from astropy[recommended]) (6.0.2)\n",
      "Requirement already satisfied: packaging>=22.0.0 in /home/ankit-kmar/miniconda3/envs/capstone/lib/python3.11/site-packages (from astropy[recommended]) (24.2)\n",
      "Requirement already satisfied: scipy>=1.9.2 in /home/ankit-kmar/miniconda3/envs/capstone/lib/python3.11/site-packages (from astropy[recommended]) (1.14.1)\n",
      "Requirement already satisfied: matplotlib>=3.6.0 in /home/ankit-kmar/miniconda3/envs/capstone/lib/python3.11/site-packages (from astropy[recommended]) (3.9.3)\n",
      "Requirement already satisfied: contourpy>=1.0.1 in /home/ankit-kmar/miniconda3/envs/capstone/lib/python3.11/site-packages (from matplotlib>=3.6.0->astropy[recommended]) (1.3.1)\n",
      "Requirement already satisfied: cycler>=0.10 in /home/ankit-kmar/miniconda3/envs/capstone/lib/python3.11/site-packages (from matplotlib>=3.6.0->astropy[recommended]) (0.12.1)\n",
      "Requirement already satisfied: fonttools>=4.22.0 in /home/ankit-kmar/miniconda3/envs/capstone/lib/python3.11/site-packages (from matplotlib>=3.6.0->astropy[recommended]) (4.55.1)\n",
      "Requirement already satisfied: kiwisolver>=1.3.1 in /home/ankit-kmar/miniconda3/envs/capstone/lib/python3.11/site-packages (from matplotlib>=3.6.0->astropy[recommended]) (1.4.7)\n",
      "Requirement already satisfied: pillow>=8 in /home/ankit-kmar/miniconda3/envs/capstone/lib/python3.11/site-packages (from matplotlib>=3.6.0->astropy[recommended]) (11.0.0)\n",
      "Requirement already satisfied: pyparsing>=2.3.1 in /home/ankit-kmar/miniconda3/envs/capstone/lib/python3.11/site-packages (from matplotlib>=3.6.0->astropy[recommended]) (3.2.0)\n",
      "Requirement already satisfied: python-dateutil>=2.7 in /home/ankit-kmar/miniconda3/envs/capstone/lib/python3.11/site-packages (from matplotlib>=3.6.0->astropy[recommended]) (2.9.0.post0)\n",
      "Requirement already satisfied: six>=1.5 in /home/ankit-kmar/miniconda3/envs/capstone/lib/python3.11/site-packages (from python-dateutil>=2.7->matplotlib>=3.6.0->astropy[recommended]) (1.16.0)\n",
      "Note: you may need to restart the kernel to use updated packages.\n"
     ]
    }
   ],
   "source": [
    "%pip install astropy[recommended] --upgrade"
   ]
  },
  {
   "cell_type": "code",
   "execution_count": 2,
   "metadata": {},
   "outputs": [],
   "source": [
    "import os\n",
    "from astropy.io import fits\n",
    "import numpy as np"
   ]
  },
  {
   "cell_type": "code",
   "execution_count": 3,
   "metadata": {},
   "outputs": [],
   "source": [
    "input_dir = \"./images/M31\"\n",
    "output_file = \"M31.fits\""
   ]
  },
  {
   "cell_type": "code",
   "execution_count": 4,
   "metadata": {},
   "outputs": [
    {
     "data": {
      "text/plain": [
       "['./images/M31/ogg0m406-kb27-20211112-0072-e91.fits.fz',\n",
       " './images/M31/ogg0m406-kb27-20211112-0070-e91.fits.fz',\n",
       " './images/M31/ogg0m406-kb27-20211112-0071-e91.fits.fz']"
      ]
     },
     "execution_count": 4,
     "metadata": {},
     "output_type": "execute_result"
    }
   ],
   "source": [
    "# Get a list of all .fits.fz files in the directory\n",
    "fits_files = [os.path.join(input_dir, f) for f in os.listdir(input_dir) if f.endswith(\".fits.fz\")]\n",
    "fits_files"
   ]
  },
  {
   "cell_type": "code",
   "execution_count": 5,
   "metadata": {},
   "outputs": [],
   "source": [
    "# Initialize a list to store data from all files\n",
    "combined_data = []\n",
    "\n",
    "for file in fits_files:\n",
    "    # Open the compressed FITS file\n",
    "    with fits.open(file) as hdul:\n",
    "        # Assuming the first extension contains the image data\n",
    "        data = hdul[0].data"
   ]
  },
  {
   "cell_type": "code",
   "execution_count": 6,
   "metadata": {},
   "outputs": [],
   "source": [
    "from astropy.io import fits"
   ]
  },
  {
   "cell_type": "code",
   "execution_count": 7,
   "metadata": {},
   "outputs": [],
   "source": [
    "compressed_file = \"./images/m31.fits.fz\"\n",
    "decompressed_file = \"./images/m31.fits\""
   ]
  },
  {
   "cell_type": "code",
   "execution_count": 8,
   "metadata": {},
   "outputs": [],
   "source": [
    "# Open the compressed FITS file\n",
    "with fits.open(compressed_file) as hdul:\n",
    "    # Write it to a new uncompressed FITS file\n",
    "    hdul.writeto(decompressed_file, overwrite=True)"
   ]
  },
  {
   "cell_type": "code",
   "execution_count": null,
   "metadata": {},
   "outputs": [],
   "source": []
  }
 ],
 "metadata": {
  "kernelspec": {
   "display_name": "capstone",
   "language": "python",
   "name": "python3"
  },
  "language_info": {
   "codemirror_mode": {
    "name": "ipython",
    "version": 3
   },
   "file_extension": ".py",
   "mimetype": "text/x-python",
   "name": "python",
   "nbconvert_exporter": "python",
   "pygments_lexer": "ipython3",
   "version": "3.11.10"
  }
 },
 "nbformat": 4,
 "nbformat_minor": 2
}
