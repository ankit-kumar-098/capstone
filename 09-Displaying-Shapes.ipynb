{
 "cells": [
  {
   "attachments": {},
   "cell_type": "markdown",
   "metadata": {},
   "source": [
    "# Adding shapes / graphic overlays\n",
    "\n",
    "There are two supported representations of exact shapes in `ipyaladin`:\n",
    " - the [Space Time Coordinates string (STCs)](https://ivoa.net/documents/STC-S/20130917/index.html)\n",
    " - the `astropy-regions` package objects\n",
    "\n",
    "If you're looking for MOCs, they have their own example in the repository: `5-Display_a_MOC.ipynb`."
   ]
  },
  {
   "cell_type": "code",
   "execution_count": 11,
   "metadata": {},
   "outputs": [
    {
     "name": "stdout",
     "output_type": "stream",
     "text": [
      "Requirement already satisfied: regions in /home/ankit-kmar/miniconda3/envs/capstone/lib/python3.11/site-packages (0.10)\n",
      "Requirement already satisfied: numpy>=1.23 in /home/ankit-kmar/miniconda3/envs/capstone/lib/python3.11/site-packages (from regions) (2.1.3)\n",
      "Requirement already satisfied: astropy>=5.1 in /home/ankit-kmar/miniconda3/envs/capstone/lib/python3.11/site-packages (from regions) (7.0.0)\n",
      "Requirement already satisfied: pyerfa>=2.0.1.1 in /home/ankit-kmar/miniconda3/envs/capstone/lib/python3.11/site-packages (from astropy>=5.1->regions) (2.0.1.5)\n",
      "Requirement already satisfied: astropy-iers-data>=0.2024.10.28.0.34.7 in /home/ankit-kmar/miniconda3/envs/capstone/lib/python3.11/site-packages (from astropy>=5.1->regions) (0.2024.12.2.0.35.34)\n",
      "Requirement already satisfied: PyYAML>=6.0.0 in /home/ankit-kmar/miniconda3/envs/capstone/lib/python3.11/site-packages (from astropy>=5.1->regions) (6.0.2)\n",
      "Requirement already satisfied: packaging>=22.0.0 in /home/ankit-kmar/miniconda3/envs/capstone/lib/python3.11/site-packages (from astropy>=5.1->regions) (24.2)\n",
      "Note: you may need to restart the kernel to use updated packages.\n"
     ]
    }
   ],
   "source": [
    "%pip install regions"
   ]
  },
  {
   "cell_type": "code",
   "execution_count": 1,
   "metadata": {},
   "outputs": [],
   "source": [
    "from ipyaladin import Aladin\n",
    "\n",
    "from astropy.coordinates import Angle, SkyCoord\n",
    "from astropy.io import fits\n",
    "from astropy.wcs import WCS\n",
    "import matplotlib.pyplot as plt\n",
    "from regions import (\n",
    "    CircleSkyRegion,\n",
    "    EllipseSkyRegion,\n",
    "    LineSkyRegion,\n",
    "    PolygonSkyRegion,\n",
    "    RectangleSkyRegion,\n",
    "    RegionVisual,\n",
    ")"
   ]
  },
  {
   "cell_type": "markdown",
   "metadata": {},
   "source": [
    "## Add shapes from Space-Time Coordinates (STC)\n",
    "\n",
    "For now, `ipyaladin` supports a subset of STCs shapes and frames: the circles and polygons in frames `icrs`, `j2000`, and `fk5`.\n",
    "\n",
    "Operations between shapes (union, intersection, ...) are not supported, but lists of shapes in a same STC string do work."
   ]
  },
  {
   "cell_type": "code",
   "execution_count": 2,
   "metadata": {},
   "outputs": [
    {
     "data": {
      "application/vnd.jupyter.widget-view+json": {
       "model_id": "60c84e86bd3b43e3b39128f8df6ef2f3",
       "version_major": 2,
       "version_minor": 1
      },
      "text/plain": [
       "Aladin()"
      ]
     },
     "execution_count": 2,
     "metadata": {},
     "output_type": "execute_result"
    }
   ],
   "source": [
    "aladin = Aladin(target=\"M 51\", fov=1.2)\n",
    "aladin"
   ]
  },
  {
   "cell_type": "code",
   "execution_count": 3,
   "metadata": {},
   "outputs": [],
   "source": [
    "aladin.add_graphic_overlay_from_stcs(\n",
    "    \"\"\"Polygon ICRS 202.63748 47.24951 202.46382 47.32391 202.46379 47.32391 202.45459\n",
    "    47.32391 202.34527 47.20597 202.34527 47.20596 202.34529 47.19710 202.51870\n",
    "    47.12286 202.52789 47.12286 202.52791 47.12286 202.63746 47.24063 202.63749\n",
    "    47.24949\\nPolygon J2000 202.74977 47.36958 202.57592 47.44415 202.57585 47.44416\n",
    "    202.56666 47.44416 202.45683 47.32632 202.45683 47.31746 202.63051 47.24302\n",
    "    202.63970 47.24302 202.74978 47.36069 202.74982 47.36955\\nPolygon J2000 202.52540\n",
    "    47.12904 202.35192 47.20325 202.34273 47.20325 202.23391 47.08518 202.23395\n",
    "    47.07633 202.23398 47.07630 202.40715 47.00227 202.40721 47.00226 202.41640\n",
    "    47.00226 202.52539 47.12018\"\"\",\n",
    "    color=\"red\",\n",
    ")\n",
    "aladin.add_graphic_overlay_from_stcs(\n",
    "    \"Circle ICRS 202.4656816 +47.1999842 0.04\", color=\"#4488ee\"\n",
    ")"
   ]
  },
  {
   "cell_type": "markdown",
   "metadata": {},
   "source": [
    "## Add shapes from astropy-regions objects\n",
    "\n",
    "The ipyaladin widget can also represent the following [`astropy-regions`](https://astropy-regions.readthedocs.io) shapes:\n",
    "- `CircleSkyRegion`,\n",
    "- `EllipseSkyRegion`,\n",
    "- `LineSkyRegion`,\n",
    "- `PolygonSkyRegion`,\n",
    "- `RectangleSkyRegion`.\n",
    "\n",
    "Let's create one of each:"
   ]
  },
  {
   "cell_type": "code",
   "execution_count": 4,
   "metadata": {},
   "outputs": [],
   "source": [
    "center = SkyCoord.from_name(\"M31\")\n",
    "circle = CircleSkyRegion(\n",
    "    center=center, radius=Angle(0.5, \"deg\"), visual={\"edgecolor\": \"yellow\"}\n",
    ")\n",
    "ellipse = EllipseSkyRegion(\n",
    "    center=center,\n",
    "    height=Angle(0.5, \"deg\"),\n",
    "    width=Angle(1, \"deg\"),\n",
    "    angle=Angle(45, \"deg\"),\n",
    "    visual=RegionVisual(edgecolor=\"red\"),\n",
    ")\n",
    "line = LineSkyRegion(\n",
    "    start=center,\n",
    "    end=center.directional_offset_by(Angle(0, \"deg\"), Angle(0.5, \"deg\")),\n",
    "    visual=RegionVisual(edgecolor=\"green\"),\n",
    ")\n",
    "polygon = PolygonSkyRegion(\n",
    "    vertices=SkyCoord(\n",
    "        [\n",
    "            center.directional_offset_by(Angle(0, \"deg\"), Angle(0.5, \"deg\")),\n",
    "            center.directional_offset_by(Angle(90, \"deg\"), Angle(0.5, \"deg\")),\n",
    "            center.directional_offset_by(Angle(-90, \"deg\"), Angle(0.5, \"deg\")),\n",
    "        ],\n",
    "        frame=\"icrs\",\n",
    "        unit=\"deg\",\n",
    "    ),\n",
    "    visual={\"edgecolor\": \"blue\"},\n",
    ")\n",
    "rectangle = RectangleSkyRegion(\n",
    "    center=center,\n",
    "    width=Angle(1, \"deg\"),\n",
    "    height=Angle(1, \"deg\"),\n",
    "    angle=Angle(45, \"deg\"),\n",
    "    visual=RegionVisual(color=\"purple\"),\n",
    ")"
   ]
  },
  {
   "cell_type": "markdown",
   "metadata": {},
   "source": [
    "And plot them first with matplotlib"
   ]
  },
  {
   "cell_type": "code",
   "execution_count": 5,
   "metadata": {},
   "outputs": [
    {
     "name": "stdout",
     "output_type": "stream",
     "text": [
      "Filename: images/m31.fits\n",
      "No.    Name      Ver    Type      Cards   Dimensions   Format\n",
      "  0  PRIMARY       1 PrimaryHDU       4   ()      \n",
      "  1  SCI           1 CompImageHDU    266   (3054, 2042)   float32   \n",
      "  2  CAT           1 BinTableHDU    124   286R x 39C   [D, D, D, D, K, K, D, D, D, D, D, D, D, D, D, D, D, D, D, D, D, D, D, D, D, D, D, D, D, D, D, D, D, D, K, D, D, D, D]   \n",
      "  3  BPM           1 CompImageHDU      9   (3054, 2042)   uint8   \n",
      "  4  ERR           1 CompImageHDU      9   (3054, 2042)   float32   \n"
     ]
    },
    {
     "name": "stderr",
     "output_type": "stream",
     "text": [
      "WARNING: FITSFixedWarning: The WCS transformation has more axes (2) than the image it is associated with (0) [astropy.wcs.wcs]\n"
     ]
    },
    {
     "ename": "IndexError",
     "evalue": "pop index out of range",
     "output_type": "error",
     "traceback": [
      "\u001b[0;31m---------------------------------------------------------------------------\u001b[0m",
      "\u001b[0;31mIndexError\u001b[0m                                Traceback (most recent call last)",
      "Cell \u001b[0;32mIn[5], line 3\u001b[0m\n\u001b[1;32m      1\u001b[0m hdu_list \u001b[38;5;241m=\u001b[39m fits\u001b[38;5;241m.\u001b[39mopen(\u001b[38;5;124m\"\u001b[39m\u001b[38;5;124mimages/m31.fits\u001b[39m\u001b[38;5;124m\"\u001b[39m)\n\u001b[1;32m      2\u001b[0m hdu_list\u001b[38;5;241m.\u001b[39minfo()\n\u001b[0;32m----> 3\u001b[0m wcs \u001b[38;5;241m=\u001b[39m \u001b[43mWCS\u001b[49m\u001b[43m(\u001b[49m\u001b[43mhdu_list\u001b[49m\u001b[43m[\u001b[49m\u001b[38;5;241;43m0\u001b[39;49m\u001b[43m]\u001b[49m\u001b[38;5;241;43m.\u001b[39;49m\u001b[43mheader\u001b[49m\u001b[43m)\u001b[49m\u001b[38;5;241;43m.\u001b[39;49m\u001b[43mdropaxis\u001b[49m\u001b[43m(\u001b[49m\u001b[38;5;241;43m2\u001b[39;49m\u001b[43m)\u001b[49m\n\u001b[1;32m      5\u001b[0m plt\u001b[38;5;241m.\u001b[39msubplot(projection\u001b[38;5;241m=\u001b[39mwcs)\n\u001b[1;32m      6\u001b[0m plt\u001b[38;5;241m.\u001b[39mimshow(hdu_list[\u001b[38;5;241m0\u001b[39m]\u001b[38;5;241m.\u001b[39mdata[\u001b[38;5;241m0\u001b[39m, :, :], cmap\u001b[38;5;241m=\u001b[39m\u001b[38;5;124m\"\u001b[39m\u001b[38;5;124mgray\u001b[39m\u001b[38;5;124m\"\u001b[39m)\n",
      "File \u001b[0;32m~/miniconda3/envs/capstone/lib/python3.11/site-packages/astropy/wcs/wcs.py:3267\u001b[0m, in \u001b[0;36mWCS.dropaxis\u001b[0;34m(self, dropax)\u001b[0m\n\u001b[1;32m   3250\u001b[0m \u001b[38;5;250m\u001b[39m\u001b[38;5;124;03m\"\"\"\u001b[39;00m\n\u001b[1;32m   3251\u001b[0m \u001b[38;5;124;03mRemove an axis from the WCS.\u001b[39;00m\n\u001b[1;32m   3252\u001b[0m \n\u001b[0;32m   (...)\u001b[0m\n\u001b[1;32m   3264\u001b[0m \u001b[38;5;124;03m    A new `~astropy.wcs.WCS` instance with one axis fewer\u001b[39;00m\n\u001b[1;32m   3265\u001b[0m \u001b[38;5;124;03m\"\"\"\u001b[39;00m\n\u001b[1;32m   3266\u001b[0m inds \u001b[38;5;241m=\u001b[39m \u001b[38;5;28mlist\u001b[39m(\u001b[38;5;28mrange\u001b[39m(\u001b[38;5;28mself\u001b[39m\u001b[38;5;241m.\u001b[39mwcs\u001b[38;5;241m.\u001b[39mnaxis))\n\u001b[0;32m-> 3267\u001b[0m \u001b[43minds\u001b[49m\u001b[38;5;241;43m.\u001b[39;49m\u001b[43mpop\u001b[49m\u001b[43m(\u001b[49m\u001b[43mdropax\u001b[49m\u001b[43m)\u001b[49m\n\u001b[1;32m   3269\u001b[0m \u001b[38;5;66;03m# axis 0 has special meaning to sub\u001b[39;00m\n\u001b[1;32m   3270\u001b[0m \u001b[38;5;66;03m# if wcs.wcs.ctype == ['RA','DEC','VLSR'], you want\u001b[39;00m\n\u001b[1;32m   3271\u001b[0m \u001b[38;5;66;03m# wcs.sub([1,2]) to get 'RA','DEC' back\u001b[39;00m\n\u001b[1;32m   3272\u001b[0m \u001b[38;5;28;01mreturn\u001b[39;00m \u001b[38;5;28mself\u001b[39m\u001b[38;5;241m.\u001b[39msub([i \u001b[38;5;241m+\u001b[39m \u001b[38;5;241m1\u001b[39m \u001b[38;5;28;01mfor\u001b[39;00m i \u001b[38;5;129;01min\u001b[39;00m inds])\n",
      "\u001b[0;31mIndexError\u001b[0m: pop index out of range"
     ]
    }
   ],
   "source": [
    "hdu_list = fits.open(\"images/m31.fits\")\n",
    "hdu_list.info()\n",
    "wcs = WCS(hdu_list[0].header).dropaxis(2)\n",
    "\n",
    "plt.subplot(projection=wcs)\n",
    "plt.imshow(hdu_list[0].data[0, :, :], cmap=\"gray\")\n",
    "\n",
    "circle.to_pixel(wcs).plot(ax=plt.gca())\n",
    "ellipse.to_pixel(wcs).plot(ax=plt.gca())\n",
    "line.to_pixel(wcs).plot(ax=plt.gca())\n",
    "polygon.to_pixel(wcs).plot(ax=plt.gca())\n",
    "rectangle.to_pixel(wcs).plot(ax=plt.gca())"
   ]
  },
  {
   "cell_type": "markdown",
   "metadata": {},
   "source": [
    "And now in ipyaladin"
   ]
  },
  {
   "cell_type": "code",
   "execution_count": 6,
   "metadata": {},
   "outputs": [
    {
     "data": {
      "application/vnd.jupyter.widget-view+json": {
       "model_id": "52d33629b4fe4764bd1d9f3b70a95894",
       "version_major": 2,
       "version_minor": 1
      },
      "text/plain": [
       "Aladin()"
      ]
     },
     "execution_count": 6,
     "metadata": {},
     "output_type": "execute_result"
    }
   ],
   "source": [
    "aladin = Aladin(target=\"m31\", fov=10)\n",
    "aladin"
   ]
  },
  {
   "cell_type": "code",
   "execution_count": 7,
   "metadata": {},
   "outputs": [],
   "source": [
    "aladin.add_graphic_overlay_from_region([circle, ellipse, line, polygon, rectangle])"
   ]
  },
  {
   "cell_type": "code",
   "execution_count": 8,
   "metadata": {},
   "outputs": [
    {
     "data": {
      "application/vnd.jupyter.widget-view+json": {
       "model_id": "52d33629b4fe4764bd1d9f3b70a95894",
       "version_major": 2,
       "version_minor": 1
      },
      "text/plain": [
       "Aladin()"
      ]
     },
     "execution_count": 8,
     "metadata": {},
     "output_type": "execute_result"
    }
   ],
   "source": [
    "aladin"
   ]
  },
  {
   "cell_type": "code",
   "execution_count": null,
   "metadata": {},
   "outputs": [],
   "source": []
  }
 ],
 "metadata": {
  "kernelspec": {
   "display_name": "capstone",
   "language": "python",
   "name": "python3"
  },
  "language_info": {
   "codemirror_mode": {
    "name": "ipython",
    "version": 3
   },
   "file_extension": ".py",
   "mimetype": "text/x-python",
   "name": "python",
   "nbconvert_exporter": "python",
   "pygments_lexer": "ipython3",
   "version": "3.11.10"
  },
  "toc": {
   "base_numbering": 1,
   "nav_menu": {},
   "number_sections": false,
   "sideBar": false,
   "skip_h1_title": false,
   "title_cell": "Table of Contents",
   "title_sidebar": "Contents",
   "toc_cell": false,
   "toc_position": {},
   "toc_section_display": false,
   "toc_window_display": false
  }
 },
 "nbformat": 4,
 "nbformat_minor": 4
}
