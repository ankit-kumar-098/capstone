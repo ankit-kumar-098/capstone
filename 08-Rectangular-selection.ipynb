{
 "cells": [
  {
   "cell_type": "markdown",
   "metadata": {},
   "source": [
    "# Example of interactive rectangular selection\n",
    "\n",
    "Once all the cells below have been executed, you will be able to press the _Select_ button, drag a rectangle enclosing the sources you wish to select and see their names in the table at the right of the ipyaladin view.\n",
    "\n",
    "![ipyaladin example](gifs/demo-select-button.gif)"
   ]
  },
  {
   "cell_type": "code",
   "execution_count": 1,
   "metadata": {},
   "outputs": [
    {
     "data": {
      "application/vnd.jupyter.widget-view+json": {
       "model_id": "a571f8d304254cb98e2f92ee0b8ffe26",
       "version_major": 2,
       "version_minor": 0
      },
      "text/plain": [
       "Box(children=(Aladin(layout=Layout(width='50%')), Button(description='Select', style=ButtonStyle()), HTML(valu…"
      ]
     },
     "execution_count": 1,
     "metadata": {},
     "output_type": "execute_result"
    }
   ],
   "source": [
    "from ipyaladin import Aladin\n",
    "from ipywidgets import Layout, Box, widgets\n",
    "\n",
    "from astroquery.simbad import Simbad\n",
    "import astropy.units as u\n",
    "\n",
    "aladin = Aladin(\n",
    "    layout=Layout(width=\"50%\"),\n",
    "    target=\"M 1\",\n",
    "    fov=0.2,\n",
    "    show_projection_control=False,\n",
    "    show_fullscreen_control=False,\n",
    ")\n",
    "button = widgets.Button(description=\"Select\")\n",
    "\n",
    "\n",
    "def on_button_clicked(_: any) -> None:\n",
    "    \"\"\"Button click event callback.\n",
    "\n",
    "    It will trigger the rectangular selection in the Aladin widget.\n",
    "\n",
    "    Parameters\n",
    "    ----------\n",
    "    _: any\n",
    "        The button widget that triggered the event.\n",
    "    \"\"\"\n",
    "    aladin.selection(\"rectangle\")\n",
    "\n",
    "\n",
    "button.on_click(on_button_clicked)\n",
    "table_info = widgets.HTML(layout=Layout(height=\"auto\", overflow=\"auto\"))\n",
    "\n",
    "box_layout = Layout(\n",
    "    display=\"flex\",\n",
    "    flex_flow=\"row\",\n",
    "    align_items=\"stretch\",\n",
    "    width=\"100%\",\n",
    "    position=\"relative\",\n",
    ")\n",
    "box = Box(children=[aladin, button, table_info], layout=box_layout)\n",
    "box"
   ]
  },
  {
   "cell_type": "code",
   "execution_count": 2,
   "metadata": {},
   "outputs": [],
   "source": [
    "table = Simbad.query_region(\"M 1\", radius=0.1 * u.deg)\n",
    "aladin.add_table(table)\n",
    "\n",
    "\n",
    "def process_result(sources: dict) -> None:\n",
    "    \"\"\"Process the sources selected in the Aladin widget and display them in the table.\n",
    "\n",
    "    Parameters\n",
    "    ----------\n",
    "    sources: dict\n",
    "        The sources selected in the Aladin widget.\n",
    "    \"\"\"\n",
    "    s = '<table border=\"1\">'\n",
    "    s += \"<tr><th>MAIN_ID</th><th>RA</th><th>DEC</th></tr>\"\n",
    "    for source in sources:\n",
    "        s += \"<tr><td>%s</td><td>%s</td><td>%s</td></tr>\" % (\n",
    "            source[\"data\"][\"MAIN_ID\"],\n",
    "            source[\"data\"][\"RA\"],\n",
    "            source[\"data\"][\"DEC\"],\n",
    "        )\n",
    "    s += \"</table>\"\n",
    "    table_info.value = s\n",
    "\n",
    "\n",
    "aladin.set_listener(\"select\", process_result)"
   ]
  },
  {
   "cell_type": "code",
   "execution_count": 3,
   "metadata": {},
   "outputs": [
    {
     "data": {
      "application/vnd.jupyter.widget-view+json": {
       "model_id": "79501a351f98468ebcf27ad8b0d12bbb",
       "version_major": 2,
       "version_minor": 1
      },
      "text/plain": [
       "Aladin(layout=Layout(width='50%'))"
      ]
     },
     "execution_count": 3,
     "metadata": {},
     "output_type": "execute_result"
    }
   ],
   "source": [
    "aladin"
   ]
  },
  {
   "cell_type": "code",
   "execution_count": null,
   "metadata": {},
   "outputs": [],
   "source": []
  }
 ],
 "metadata": {
  "kernelspec": {
   "display_name": "capstone",
   "language": "python",
   "name": "python3"
  },
  "language_info": {
   "codemirror_mode": {
    "name": "ipython",
    "version": 3
   },
   "file_extension": ".py",
   "mimetype": "text/x-python",
   "name": "python",
   "nbconvert_exporter": "python",
   "pygments_lexer": "ipython3",
   "version": "3.11.10"
  }
 },
 "nbformat": 4,
 "nbformat_minor": 4
}
